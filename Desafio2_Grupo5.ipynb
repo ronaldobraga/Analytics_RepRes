{
  "nbformat": 4,
  "nbformat_minor": 0,
  "metadata": {
    "colab": {
      "name": "Desafio2_Grupo5.ipynb",
      "version": "0.3.2",
      "provenance": [],
      "collapsed_sections": [],
      "include_colab_link": true
    },
    "kernelspec": {
      "name": "python3",
      "display_name": "Python 3"
    }
  },
  "cells": [
    {
      "cell_type": "markdown",
      "metadata": {
        "id": "view-in-github",
        "colab_type": "text"
      },
      "source": [
        "<a href=\"https://colab.research.google.com/github/ronaldobraga/Analytics_RepRes/blob/master/Desafio2_Grupo5.ipynb\" target=\"_parent\"><img src=\"https://colab.research.google.com/assets/colab-badge.svg\" alt=\"Open In Colab\"/></a>"
      ]
    },
    {
      "cell_type": "code",
      "metadata": {
        "id": "L5oMFi4fDJ0z",
        "colab_type": "code",
        "colab": {}
      },
      "source": [
        "# Desafio 2 - Grupo 5 - Digital House Curso de Data Science  "
      ],
      "execution_count": 0,
      "outputs": []
    },
    {
      "cell_type": "markdown",
      "metadata": {
        "id": "Mjw64NjiFD0P",
        "colab_type": "text"
      },
      "source": [
        "Desafio "
      ]
    },
    {
      "cell_type": "markdown",
      "metadata": {
        "id": "qjh5MdYIFBcX",
        "colab_type": "text"
      },
      "source": [
        ""
      ]
    },
    {
      "cell_type": "code",
      "metadata": {
        "id": "ymbISa1QDaLE",
        "colab_type": "code",
        "colab": {}
      },
      "source": [
        "import pandas as pd"
      ],
      "execution_count": 0,
      "outputs": []
    },
    {
      "cell_type": "code",
      "metadata": {
        "id": "MHESERLaDut_",
        "colab_type": "code",
        "outputId": "59e75829-cae6-4703-e5b2-1ffd6fcac98a",
        "colab": {
          "base_uri": "https://localhost:8080/",
          "height": 35
        }
      },
      "source": [
        "1+1"
      ],
      "execution_count": 0,
      "outputs": [
        {
          "output_type": "execute_result",
          "data": {
            "text/plain": [
              "2"
            ]
          },
          "metadata": {
            "tags": []
          },
          "execution_count": 4
        }
      ]
    },
    {
      "cell_type": "markdown",
      "metadata": {
        "id": "wOfOL2SgF-GE",
        "colab_type": "text"
      },
      "source": [
        "##Célula de Texto "
      ]
    },
    {
      "cell_type": "code",
      "metadata": {
        "id": "bt9ckjQuGDBl",
        "colab_type": "code",
        "colab": {}
      },
      "source": [
        ""
      ],
      "execution_count": 0,
      "outputs": []
    }
  ]
}